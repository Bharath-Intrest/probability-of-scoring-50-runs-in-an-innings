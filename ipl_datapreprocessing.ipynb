{
  "nbformat": 4,
  "nbformat_minor": 0,
  "metadata": {
    "colab": {
      "provenance": []
    },
    "kernelspec": {
      "name": "python3",
      "display_name": "Python 3"
    },
    "language_info": {
      "name": "python"
    }
  },
  "cells": [
    {
      "cell_type": "code",
      "execution_count": 7,
      "metadata": {
        "colab": {
          "base_uri": "https://localhost:8080/"
        },
        "id": "lU8Ge69Tns1l",
        "outputId": "b2f8648c-c8bf-4b8c-c66a-58d26f327382"
      },
      "outputs": [
        {
          "output_type": "stream",
          "name": "stdout",
          "text": [
            "{'SC Ganguly': (1349, 56, 7), 'BB McCullum': (2882, 109, 15), 'RT Ponting': (91, 9, 0), 'DJ Hussey': (1322, 61, 5), 'Mohammad Hafeez': (64, 8, 0), 'R Dravid': (2174, 82, 11), 'W Jaffer': (130, 8, 1), 'V Kohli': (8014, 244, 64), 'JH Kallis': (2427, 95, 17), 'CL White': (971, 45, 6), 'MV Boucher': (394, 23, 1), 'B Akhil': (76, 11, 0), 'AA Noffke': (9, 1, 0), 'P Kumar': (340, 57, 0), 'Z Khan': (117, 27, 0), 'SB Joshi': (6, 2, 0), 'PA Patel': (2848, 136, 13), 'ML Hayden': (1107, 32, 8), 'MEK Hussey': (1977, 58, 16), 'MS Dhoni': (5243, 228, 24), 'SK Raina': (5536, 200, 40), 'JDP Oram': (106, 11, 0), 'S Badrinath': (1441, 65, 11), 'K Goel': (218, 16, 0), 'JR Hopes': (417, 19, 4), 'KC Sangakkara': (1687, 68, 10), 'Yuvraj Singh': (2754, 126, 13), 'SM Katich': (241, 11, 2), 'IK Pathan': (1150, 82, 1), 'T Kohli': (11, 3, 0), 'YK Pathan': (3222, 153, 15), 'SR Watson': (3880, 141, 25), 'M Kaif': (259, 22, 0), 'DS Lehmann': (18, 2, 0), 'RA Jadeja': (2959, 180, 3), 'M Rawat': (55, 11, 0), 'D Salunkhe': (33, 3, 0), 'SK Warne': (198, 27, 0), 'SK Trivedi': (42, 14, 0), 'G Gambhir': (4217, 151, 36), 'V Sehwag': (2728, 104, 18), 'S Dhawan': (6769, 221, 53), 'L Ronchi': (34, 5, 0), 'ST Jayasuriya': (768, 30, 5), 'DJ Thornely': (39, 4, 0), 'RV Uthappa': (4954, 197, 27), 'PR Shah': (92, 9, 0), 'AM Nayar': (672, 50, 0), 'SM Pollock': (147, 8, 0), 'Harbhajan Singh': (833, 88, 1), 'S Chanderpaul': (25, 3, 0), 'LRPL Taylor': (1017, 54, 3), 'AC Gilchrist': (2069, 80, 13), 'Y Venugopal Rao': (985, 52, 3), 'VVS Laxman': (282, 20, 1), 'A Symonds': (974, 36, 6), 'RG Sharma': (6630, 251, 45), 'SB Styris': (131, 10, 0), 'AS Yadav': (49, 6, 0), 'SB Bangar': (49, 7, 0), 'WPUJC Vaas': (81, 11, 0), 'RP Singh': (52, 28, 0), 'WP Saha': (2934, 143, 14), 'LR Shukla': (405, 33, 0), 'DPMD Jayawardene': (1808, 78, 11), 'S Sohal': (368, 20, 2), 'B Lee': (124, 19, 0), 'PP Chawla': (624, 86, 0), 'WA Mota': (56, 8, 0), 'Kamran Akmal': (128, 6, 1), 'Shahid Afridi': (81, 9, 0), 'DJ Bravo': (1560, 110, 5), 'MA Khote': (24, 3, 0), 'A Nehra': (41, 17, 0), 'GC Smith': (739, 29, 4), 'Pankaj Singh': (7, 5, 0), 'RR Sarwan': (73, 4, 0), 'S Sreesanth': (34, 12, 0), 'VRV Singh': (4, 2, 0), 'SS Tiwary': (1494, 73, 8), 'DS Kulkarni': (104, 20, 0), 'R Vinay Kumar': (310, 42, 0), 'AB Agarkar': (179, 18, 0), 'M Kartik': (113, 14, 0), 'I Sharma': (57, 21, 0), 'AM Rahane': (4642, 171, 32), 'Shoaib Malik': (52, 5, 0), 'MK Tiwary': (1695, 83, 7), 'KD Karthik': (4843, 233, 22), 'R Bhatia': (342, 47, 0), 'MF Maharoof': (177, 14, 0), 'VY Mahesh': (15, 5, 0), 'TM Srivastava': (8, 3, 0), 'B Chipli': (280, 21, 1), 'DW Steyn': (167, 33, 0), 'DB Das': (304, 22, 0), 'MK Pandey': (3859, 158, 23), 'HH Gibbs': (886, 36, 6), 'DNT Zoysa': (11, 2, 0), 'D Kalyankrishna': (3, 1, 0), 'SE Marsh': (2489, 69, 21), 'SA Asnodkar': (423, 19, 2), 'Sohail Tanvir': (36, 5, 0), 'Salman Butt': (193, 7, 1), 'BJ Hodge': (1400, 63, 6), 'Umar Gul': (39, 4, 0), 'AB Dinda': (26, 16, 0), 'SP Fleming': (196, 10, 0), 'S Vidyut': (145, 8, 1), 'JA Morkel': (975, 67, 3), 'AB de Villiers': (5181, 170, 44), 'LPC Silva': (40, 3, 0), 'DB Ravi Teja': (375, 25, 1), 'Misbah-ul-Haq': (117, 8, 0), 'YV Takawale': (192, 10, 0), 'RR Raje': (20, 5, 0), 'PJ Sangwan': (26, 14, 0), 'Mohammad Asif': (3, 2, 0), 'GD McGrath': (4, 2, 0), 'Joginder Sharma': (36, 5, 0), 'MS Gony': (99, 15, 0), 'M Muralitharan': (20, 9, 0), 'M Ntini': (11, 2, 0), 'DT Patil': (13, 2, 0), 'A Kumble': (35, 15, 0), 'S Anirudha': (136, 12, 1), 'MM Patel': (39, 12, 0), 'CK Kapugedera': (16, 3, 0), 'A Chopra': (53, 6, 0), 'T Taibu': (31, 3, 0), 'J Arunkumar': (23, 3, 0), 'PP Ojha': (16, 19, 0), 'SP Goswami': (293, 21, 1), 'SR Tendulkar': (2334, 78, 14), 'U Kaul': (0, 1, 0), 'TM Dilshan': (1153, 50, 9), 'A Mishra': (381, 55, 0), 'AD Mascarenhas': (79, 11, 0), 'NK Patel': (121, 6, 1), 'LA Pomersbach': (302, 16, 1), 'Iqbal Abdulla': (88, 13, 0), 'Younis Khan': (3, 1, 0), 'PM Sarvesh Kumar': (1, 1, 0), 'DP Vijaykumar': (1, 1, 0), 'Shoaib Akhtar': (2, 1, 0), 'Abdur Razzak': (0, 1, 0), 'H Das': (2, 1, 0), 'DR Smith': (2385, 88, 17), 'SD Chitnis': (99, 8, 0), 'CRD Fernando': (4, 2, 0), 'VS Yeligati': (2, 1, 0), 'L Balaji': (36, 13, 0), 'A Mukund': (19, 2, 0), 'RR Powar': (67, 9, 0), 'JP Duminy': (2029, 75, 14), 'A Flintoff': (62, 3, 0), 'T Thushara': (12, 4, 0), 'JD Ryder': (604, 29, 4), 'KP Pietersen': (1001, 36, 5), 'T Henderson': (11, 2, 0), 'Kamran Khan': (3, 1, 0), 'RS Bopara': (531, 22, 3), 'CH Gayle': (4997, 141, 38), 'MC Henriques': (1000, 54, 5), 'R Bishnoi': (19, 3, 0), 'FH Edwards': (4, 2, 0), 'KV Sharma': (351, 39, 0), 'PC Valthaty': (505, 23, 3), 'RJ Quiney': (103, 7, 1), 'AS Raut': (194, 16, 0), 'Yashpal Singh': (47, 4, 0), 'M Manhas': (514, 38, 0), 'AA Bilakhia': (69, 7, 0), 'AN Ghosh': (7, 2, 0), 'BAW Mendis': (3, 3, 0), 'DL Vettori': (121, 16, 0), 'MN van Wyk': (167, 5, 1), 'RE van der Merwe': (159, 15, 0), 'TL Suman': (676, 39, 2), 'Shoaib Ahmed': (1, 3, 0), 'GR Napier': (15, 1, 0), 'KP Appanna': (2, 3, 0), 'LA Carseldine': (81, 5, 0), 'NV Ojha': (1554, 94, 6), 'SM Harwood': (9, 2, 0), 'M Vijay': (2619, 105, 15), 'SB Jakati': (28, 5, 0), 'DA Warner': (6567, 184, 66), 'RJ Harris': (117, 21, 0), 'D du Preez': (10, 1, 0), 'M Morkel': (126, 20, 0), 'AD Mathews': (724, 41, 1), 'J Botha': (409, 28, 1), 'C Nanda': (0, 1, 0), 'SL Malinga': (88, 20, 0), 'Mashrafe Mortaza': (2, 1, 0), 'A Singh': (2, 5, 0), 'GJ Bailey': (663, 36, 2), 'AB McDonald': (123, 9, 0), 'Y Nagar': (285, 20, 0), 'SS Shaikh': (6, 1, 0), 'R Ashwin': (800, 89, 1), 'Mohammad Ashraful': (2, 1, 0), 'CA Pujara': (390, 22, 1), 'OA Shah': (506, 22, 4), 'Anirudh Singh': (63, 4, 0), 'Jaskaran Singh': (8, 4, 0), 'AP Tare': (339, 27, 1), 'AT Rayudu': (4348, 185, 23), 'R Sathish': (270, 24, 0), 'R McLaren': (159, 13, 1), 'AA Jhunjhunwala': (217, 15, 1), 'P Dogra': (127, 12, 0), 'A Uniyal': (4, 2, 0), 'MS Bisla': (798, 39, 4), 'YA Abdulla': (0, 1, 0), 'EJG Morgan': (1406, 74, 5), 'JM Kemp': (26, 2, 0), 'S Tyagi': (3, 1, 0), 'RS Gavaskar': (2, 1, 0), 'SE Bond': (1, 1, 0), 'KA Pollard': (3437, 168, 16), 'S Ladda': (0, 2, 0), 'DP Nannes': (4, 2, 0), 'MJ Lumb': (278, 12, 1), 'DR Martyn': (19, 1, 0), 'S Narwal': (37, 4, 0), 'AB Barath': (42, 3, 0), 'Bipul Sharma': (187, 17, 0), 'FY Fazal': (183, 11, 0), 'AC Voges': (181, 7, 0), 'MD Mishra': (237, 17, 0), 'UT Yadav': (208, 48, 0), 'J Theron': (10, 4, 0), 'SJ Srivastava': (5, 4, 0), 'R Sharma': (66, 19, 0), 'Mandeep Singh': (1706, 97, 6), 'KM Jadhav': (1208, 81, 4), 'SW Tait': (23, 5, 0), 'KB Arun Karthik': (51, 8, 0), 'KAJ Roach': (10, 1, 0), 'PD Collingwood': (203, 7, 3), 'CK Langeveldt': (8, 2, 0), 'VS Malik': (7, 2, 0), 'A Mithun': (34, 6, 0), 'AP Dole': (34, 2, 0), 'AN Ahmed': (36, 6, 0), 'RS Sodhi': (4, 1, 0), 'DE Bollinger': (21, 4, 0), 'S Sriram': (31, 2, 0), 'B Sumanth': (35, 4, 0), 'C Madan': (15, 1, 0), 'AG Paunikar': (49, 5, 0), 'MR Marsh': (665, 36, 3), 'AJ Finch': (2092, 90, 15), 'STR Binny': (880, 66, 0), 'Harmeet Singh': (18, 4, 0), 'IR Jaggi': (76, 7, 0), 'DT Christian': (460, 41, 0), 'RV Gomez': (50, 9, 0), 'MA Agarwal': (2669, 121, 14), 'AUK Pathan': (39, 7, 0), 'UBT Chand': (300, 20, 1), 'DJ Jacobs': (92, 7, 0), 'Sunny Singh': (43, 5, 0), 'NJ Rimmington': (1, 1, 0), 'AL Menaria': (401, 23, 0), 'WD Parnell': (65, 13, 0), 'JJ van der Wath': (18, 3, 0), 'R Ninan': (3, 1, 0), 'S Aravind': (59, 10, 0), 'MS Wade': (183, 14, 0), 'TD Paine': (10, 2, 0), 'SB Wagh': (2, 2, 0), 'AC Thomas': (20, 4, 0), 'JEC Franklin': (327, 16, 1), 'Shakib Al Hasan': (795, 52, 2), 'DH Yagnik': (170, 17, 0), 'S Randiv': (2, 1, 0), 'BJ Haddin': (18, 1, 0), 'NLTC Perera': (424, 30, 0), 'NL McCullum': (26, 2, 0), 'JE Taylor': (3, 2, 0), 'J Syed Mohammad': (29, 5, 0), 'RN ten Doeschate': (326, 21, 1), 'TR Birt': (75, 5, 0), 'AG Murtaza': (10, 3, 0), 'Harpreet Singh': (123, 8, 0), 'M Klinger': (73, 4, 0), 'AC Blizzard': (120, 7, 1), 'I Malhotra': (7, 1, 0), 'L Ablish': (0, 1, 0), 'CA Ingram': (205, 15, 0), 'S Nadeem': (39, 20, 0), 'P Parameswaran': (1, 2, 0), 'CJ Ferguson': (98, 8, 0), 'VR Aaron': (50, 12, 0), 'AA Chavan': (12, 3, 0), 'ND Doshi': (0, 1, 0), 'B Kumar': (306, 65, 0), 'Y Gnaneswara Rao': (19, 1, 0), 'S Rana': (91, 8, 0), 'BA Bhatt': (6, 2, 0), 'F du Plessis': (4571, 138, 37), 'RE Levi': (83, 6, 1), 'GJ Maxwell': (2772, 128, 18), 'SPD Smith': (2495, 93, 12), 'MN Samuels': (161, 14, 0), 'SA Yadav': (3594, 135, 26), 'KK Cooper': (116, 12, 0), 'JP Faulkner': (527, 45, 0), 'HV Patel': (249, 37, 0), 'DAJ Bracewell': (12, 1, 0), 'DJ Harris': (111, 4, 0), 'Ankit Sharma': (87, 10, 0), 'SP Narine': (1534, 106, 8), 'GB Hogg': (22, 4, 0), 'RR Bhatkal': (0, 1, 0), 'CJ McKay': (8, 1, 0), 'N Saini': (140, 10, 1), 'DA Miller': (2924, 123, 14), 'Azhar Mahmood': (388, 21, 2), 'P Negi': (365, 35, 0), 'RJ Peterson': (32, 5, 0), 'KMDN Kulasekara': (5, 1, 0), 'A Ashish Reddy': (280, 23, 0), 'V Pratap Singh': (0, 1, 0), 'BB Samantray': (125, 8, 1), 'MJ Clarke': (98, 6, 0), 'Gurkeerat Singh': (511, 32, 2), 'AP Majumdar': (87, 4, 0), 'PA Reddy': (164, 10, 0), 'K Upadhyay': (12, 2, 0), 'P Awana': (5, 5, 0), 'AD Russell': (2488, 104, 11), 'A Chandila': (4, 2, 0), 'CA Lynn': (1329, 42, 10), 'Sunny Gupta': (0, 1, 0), 'MC Juneja': (125, 7, 0), 'KK Nair': (1496, 68, 10), 'GH Vihari': (284, 23, 0), 'MDKJ Perera': (14, 2, 0), 'R Shukla': (19, 4, 0), 'B Laughlin': (5, 4, 0), 'AS Rajpoot': (26, 7, 0), 'M Vohra': (1083, 51, 3), 'JD Unadkat': (197, 27, 0), 'Mohammed Shami': (74, 23, 0), 'BMAJ Mendis': (23, 3, 0), 'R Rampaul': (51, 7, 0), 'CH Morris': (618, 49, 2), 'SV Samson': (4419, 162, 28), 'SMSM Senanayake': (10, 4, 0), 'BJ Rohrer': (193, 8, 1), 'KL Rahul': (4689, 122, 41), 'Q de Kock': (3160, 107, 25), 'R Dhawan': (210, 22, 0), 'MG Johnson': (167, 28, 0), 'LJ Wright': (106, 5, 0), 'IC Pandey': (0, 1, 0), 'CM Gautam': (169, 13, 0), 'X Thalaivan Sargunam': (10, 1, 0), 'DJG Sammy': (295, 20, 1), 'KW Richardson': (36, 4, 0), 'MM Sharma': (124, 28, 0), 'UA Birla': (7, 1, 0), 'Parvez Rasool': (17, 4, 0), 'Sandeep Sharma': (54, 25, 0), 'S Kaul': (20, 9, 0), 'Sachin Baby': (144, 11, 0), 'PV Tambe': (18, 6, 0), 'NM Coulter-Nile': (82, 16, 0), 'CJ Anderson': (538, 29, 3), 'NJ Maddinson': (20, 3, 0), 'AR Patel': (1653, 112, 3), 'JJ Bumrah': (68, 26, 0), 'JDS Neesham': (92, 10, 0), 'TG Southee': (120, 19, 0), 'MA Starc': (105, 16, 0), 'BR Dunk': (40, 3, 0), 'RR Rossouw': (473, 22, 2), 'Shivam Sharma': (5, 2, 0), 'YS Chahal': (37, 17, 0), 'LMP Simmons': (1079, 29, 12), 'VH Zol': (29, 2, 0), 'BCJ Cutting': (238, 17, 0), 'Imran Tahir': (33, 8, 0), 'BE Hendricks': (1, 2, 0), 'S Gopal': (180, 22, 0), 'M de Lange': (1, 1, 0), 'R Tewatia': (1013, 65, 1), 'JO Holder': (259, 27, 0), 'Karanveer Singh': (12, 4, 0), 'SS Iyer': (3131, 114, 21), 'DJ Hooda': (1466, 96, 8), 'Anureet Singh': (36, 8, 0), 'KS Williamson': (2132, 76, 18), 'SA Abbott': (22, 3, 0), 'J Suchith': (70, 9, 0), 'RG More': (2, 1, 0), 'HH Pandya': (2534, 128, 10), 'D Wiese': (148, 11, 0), 'SN Khan': (585, 36, 1), 'MJ McClenaghan': (85, 20, 0), 'DJ Muthuswami': (1, 1, 0), 'PJ Cummins': (515, 39, 3), 'SN Thakur': (307, 35, 1), 'JC Buttler': (3583, 106, 26), 'CR Brathwaite': (181, 14, 0), 'MP Stoinis': (1866, 88, 10), 'Ishan Kishan': (2644, 99, 16), 'C Munro': (177, 11, 0), 'P Sahu': (19, 2, 0), 'KH Pandya': (1647, 107, 1), 'AD Nath': (90, 10, 0), 'MJ Guptill': (271, 13, 1), 'KJ Abbott': (13, 3, 0), 'TM Head': (772, 25, 6), 'M Ashwin': (35, 12, 0), 'NS Naik': (31, 4, 0), 'RR Pant': (3297, 110, 19), 'SW Billings': (503, 27, 3), 'KC Cariappa': (24, 5, 0), 'PSP Handscomb': (6, 1, 0), 'Swapnil Singh': (51, 9, 0), 'J Yadav': (40, 4, 0), 'UT Khawaja': (127, 6, 0), 'HM Amla': (577, 16, 5), 'F Behardien': (14, 3, 0), 'BB Sran': (10, 7, 0), 'A Zampa': (15, 5, 0), 'N Rana': (2636, 101, 18), 'S Kaushik': (0, 1, 0), 'ER Dwivedi': (24, 2, 0), 'CJ Jordan': (81, 12, 0), 'TS Mills': (8, 5, 0), 'A Choudhary': (25, 3, 0), 'BA Stokes': (935, 43, 4), 'JJ Roy': (614, 21, 4), 'Vishnu Vinod': (56, 6, 0), 'Basil Thampi': (32, 7, 0), 'CR Woakes': (78, 12, 0), 'RA Tripathi': (2236, 93, 12), 'DL Chahar': (80, 12, 0), 'V Shankar': (1115, 58, 6), 'Rashid Khan': (545, 58, 1), 'RD Chahar': (129, 22, 0), 'LH Ferguson': (68, 7, 0), 'C de Grandhomme': (303, 21, 0), 'AF Milne': (23, 6, 0), 'S Badree': (13, 5, 0), 'Mohammad Nabi': (221, 19, 0), 'AJ Tye': (91, 13, 0), 'K Rabada': (206, 28, 0), 'Kuldeep Yadav': (183, 32, 0), 'Washington Sundar': (378, 38, 0), 'DM Bravo': (6, 1, 0), 'AR Bawne': (12, 1, 0), 'SP Jackson': (61, 8, 0), 'Ankit Soni': (7, 3, 0), 'TA Boult': (83, 22, 0), 'E Lewis': (654, 26, 4), 'MA Wood': (12, 3, 0), 'RK Singh': (893, 40, 4), 'DJM Short': (115, 7, 0), 'K Gowtham': (247, 27, 0), 'TK Curran': (127, 10, 1), 'M Markande': (48, 10, 0), 'B Stanlake': (5, 1, 0), 'Mujeeb Ur Rahman': (12, 6, 0), 'A Dananjaya': (4, 1, 0), 'Shubman Gill': (3216, 99, 24), 'Shivam Mavi': (51, 11, 0), 'Mohammed Siraj': (109, 20, 0), 'H Klaasen': (993, 32, 7), 'RK Bhui': (10, 4, 0), 'JC Archer': (199, 23, 0), 'PP Shaw': (1892, 79, 14), 'LE Plunkett': (1, 2, 0), 'Mustafizur Rahman': (13, 6, 0), 'AD Hales': (148, 6, 0), 'MK Lomror': (527, 35, 1), 'DR Shorey': (13, 2, 0), 'MM Ali': (1162, 57, 6), 'M Prasidh Krishna': (9, 7, 0), 'P Chopra': (8, 1, 0), 'JPR Scantlebury-Searles': (8, 2, 0), 'Abhishek Sharma': (1377, 61, 7), 'IS Sodhi': (7, 2, 0), 'SO Hetmyer': (1243, 65, 4), 'S Dube': (1502, 61, 9), 'Navdeep Saini': (33, 7, 0), 'JM Bairstow': (1589, 50, 11), 'KMA Paul': (18, 5, 0), 'Rasikh Salam': (40, 6, 0), 'N Pooran': (1769, 72, 9), 'P Ray Barman': (19, 1, 0), 'SM Curran': (883, 48, 5), 'GC Viljoen': (3, 3, 0), 'Avesh Khan': (41, 9, 0), 'S Lamichhane': (0, 1, 0), 'HF Gurney': (1, 1, 0), 'SD Lad': (15, 1, 0), 'AS Joseph': (27, 5, 0), 'R Parag': (1173, 58, 6), 'MJ Santner': (70, 11, 0), 'JL Denly': (0, 1, 0), 'LS Livingstone': (939, 39, 6), 'KK Ahmed': (1, 5, 0), 'AJ Turner': (24, 6, 0), 'Harpreet Brar': (233, 24, 0), 'SE Rutherford': (106, 9, 0), 'Y Prithvi Raj': (0, 1, 0), 'P Simran Singh': (756, 34, 4), 'JL Pattinson': (15, 2, 0), 'A Nortje': (49, 13, 0), 'T Banton': (18, 2, 0), 'D Padikkal': (1559, 64, 10), 'YBK Jaiswal': (1607, 52, 11), 'RD Gaikwad': (2380, 65, 20), 'TU Deshpande': (21, 4, 0), 'Abdul Samad': (579, 39, 0), 'PK Garg': (273, 19, 1), 'JR Philippe': (78, 5, 0), 'Kartik Tyagi': (13, 6, 0), 'KL Nagarkoti': (22, 7, 0), 'CV Varun': (25, 10, 0), 'I Udana': (15, 4, 0), 'Ravi Bishnoi': (32, 14, 0), 'Shahbaz Ahmed': (536, 37, 1), 'AT Carey': (32, 3, 0), 'N Jagadeesan': (162, 10, 0), 'T Natarajan': (3, 2, 0), 'P Dubey': (23, 2, 0), 'SS Cottrell': (0, 1, 0), 'Arshdeep Singh': (29, 11, 0), 'DR Sams': (44, 13, 0), 'M Jansen': (66, 12, 0), 'RM Patidar': (799, 24, 8), 'KA Jamieson': (65, 7, 0), 'M Shahrukh Khan': (553, 37, 1), 'JA Richardson': (17, 3, 0), 'Lalit Yadav': (305, 21, 0), 'Virat Singh': (15, 2, 0), 'FA Allen': (14, 3, 0), 'C Sakariya': (20, 7, 0), 'DJ Malan': (26, 1, 0), 'KS Bharat': (199, 8, 1), 'PWH de Silva': (72, 14, 0), 'VR Iyer': (1326, 49, 12), 'GD Phillips': (65, 8, 0), 'GHS Garton': (2, 2, 0), 'AK Markram': (995, 42, 5), 'K Yadav': (0, 1, 0), 'T Shamsi': (2, 1, 0), 'NT Ellis': (19, 5, 0), 'RV Patel': (80, 7, 0), 'TL Seifert': (26, 3, 0), 'Anmolpreet Singh': (139, 9, 0), 'Anuj Rawat': (318, 21, 1), 'TH David': (659, 35, 0), 'DP Conway': (924, 22, 9), 'Tilak Varma': (1156, 38, 6), 'R Powell': (360, 22, 1), 'PBB Rajapaksa': (277, 13, 1), 'RA Bawa': (11, 2, 0), 'OF Smith': (51, 6, 0), 'A Badoni': (634, 35, 4), 'PVD Chameera': (43, 7, 0), 'A Manohar': (231, 15, 0), 'R Shepherd': (115, 9, 0), 'DJ Willey': (53, 5, 0), 'D Pretorius': (44, 5, 0), 'JM Sharma': (730, 36, 0), 'VG Arora': (9, 7, 0), 'Mukesh Choudhary': (6, 2, 0), 'Umran Malik': (23, 5, 0), 'D Brevis': (230, 10, 0), 'B Sai Sudharsan': (1034, 25, 7), 'Ramandeep Singh': (170, 13, 0), 'HE van der Dussen': (22, 3, 0), 'SS Prabhudessai': (126, 10, 0), 'Akash Deep': (19, 3, 0), 'JR Hazlewood': (19, 6, 0), 'KR Sen': (0, 1, 0), 'Aman Hakim Khan': (115, 10, 1), 'HR Shokeen': (66, 5, 0), 'Yash Dayal': (0, 1, 0), 'DJ Mitchell': (351, 15, 2), 'Shashank Singh': (423, 19, 2), 'B Indrajith': (21, 3, 0), 'Harshit Rana': (2, 3, 0), 'Mohsin Khan': (25, 5, 0), 'Simarjeet Singh': (7, 3, 0), 'M Theekshana': (7, 2, 0), 'AS Roy': (26, 6, 0), 'Fazalhaq Farooqi': (3, 2, 0), 'K Kartikeya': (9, 2, 0), 'RP Meredith': (0, 2, 0), 'KS Sharma': (16, 3, 0), 'T Stubbs': (405, 17, 3), 'R Sanjay Yadav': (0, 1, 0), 'A Tomar': (4, 1, 0), 'PN Mankad': (97, 5, 1), 'OC McCoy': (8, 1, 0), 'Sikandar Raza': (182, 9, 1), 'Rahmanullah Gurbaz': (289, 13, 2), 'KR Mayers': (379, 13, 4), 'Mukesh Kumar': (10, 5, 0), 'HC Brook': (190, 11, 1), 'AU Rashid': (22, 2, 0), 'C Green': (707, 28, 3), 'N Wadhera': (350, 16, 2), 'Arshad Khan': (96, 6, 1), 'Abishek Porel': (360, 16, 2), 'Dhruv Jurel': (347, 22, 2), 'MG Bracewell': (58, 4, 0), 'MW Short': (117, 6, 0), 'Mohit Rathee': (1, 1, 0), 'YV Dhull': (16, 3, 0), 'Yudhvir Singh': (22, 4, 0), 'Atharva Taide': (247, 9, 2), 'Liton Das': (4, 1, 0), 'PD Salt': (653, 21, 6), 'Vijaykumar Vyshak': (14, 4, 0), 'Abdul Basith': (1, 1, 0), 'Arjun Tendulkar': (13, 1, 0), 'JP Behrendorff': (6, 2, 0), 'AJ Hosein': (16, 1, 0), 'Naveen-ul-Haq': (18, 4, 0), 'Noor Ahmad': (13, 5, 0), 'JE Root': (10, 1, 0), 'KM Asif': (0, 1, 0), 'MD Shanaka': (26, 3, 0), 'Sanvir Singh': (25, 5, 0), 'Vivrant Sharma': (69, 1, 1), 'DG Nalkande': (12, 2, 0), 'R Ravindra': (222, 10, 1), 'SD Hope': (183, 9, 0), 'Sumit Kumar': (18, 3, 0), 'Azmatullah Omarzai': (42, 4, 0), 'Naman Dhir': (140, 7, 1), 'G Coetzee': (14, 5, 0), 'SZ Mulani': (1, 1, 0), 'Sameer Rizvi': (51, 5, 0), 'SH Johnson': (6, 3, 0), 'Akash Madhwal': (4, 1, 0), 'SB Dubey': (33, 3, 0), 'Mayank Dagar': (0, 1, 0), 'RJW Topley': (3, 1, 0), 'A Raghuvanshi': (163, 7, 1), 'Ashutosh Sharma': (189, 9, 1), 'Nithish Kumar Reddy': (303, 11, 2), 'Saurav Chauhan': (18, 3, 0), 'Kumar Kushagra': (3, 3, 0), 'BR Sharath': (2, 1, 0), 'WG Jacks': (230, 8, 2), 'J Fraser-McGurk': (330, 9, 4), 'Tanush Kotian': (24, 1, 0), 'KA Maharaj': (1, 1, 0), 'Arshad Khan (2)': (5, 1, 0), 'R Sai Kishore': (13, 1, 0), 'L Wood': (9, 1, 0), 'LB Williams': (1, 1, 0), 'AA Kulkarni': (9, 2, 0), 'MJ Suthar': (1, 1, 0), 'RJ Gleeson': (2, 1, 0), 'Gulbadin Naib': (19, 1, 0), 'D Ferreira': (8, 2, 0), 'A Kamboj': (2, 1, 0), 'T Kohler-Cadmore': (48, 3, 0), 'Shivam Singh': (2, 1, 0), 'V Viyaskanth': (7, 1, 0)}\n"
          ]
        }
      ],
      "source": [
        "import pandas as pd\n",
        "df=pd.read_csv('/content/deliveries.csv')\n",
        "#print(df)\n",
        "unique_matches=[]\n",
        "unique_batter={}\n",
        "for i in df.match_id:\n",
        "    if i not in unique_matches:\n",
        "        unique_matches.append(i)\n",
        "\n",
        "for j in df.batter:\n",
        "    if j not in unique_batter:\n",
        "        unique_batter[j]=(0,0,0)\n",
        "lst=[]\n",
        "count=0\n",
        "for j in unique_matches:\n",
        "    lst=df.loc[df['match_id']==j]['batter']\n",
        "    filtered_df=df.loc[(df['match_id']==j)]\n",
        "    for i in set(filtered_df['batter'].values):\n",
        "      filtered_df1=df.loc[(df['match_id']==j)&(df['batter']==i)]\n",
        "      score,match1,fifty_count=unique_batter[i]\n",
        "      temp= filtered_df1['batsman_runs'].sum()\n",
        "      match1+=1\n",
        "      fifty_count+=1 if temp>=50 else 0\n",
        "      unique_batter[i]=(score+temp,match1,fifty_count)\n",
        "    #print(unique_batter)\n",
        "print(unique_batter)"
      ]
    },
    {
      "cell_type": "code",
      "source": [
        "d={'batsman name':[],'total score':[],'average':[],'innings':[],'fifty':[]}"
      ],
      "metadata": {
        "id": "2tGajrhHWYjm"
      },
      "execution_count": 8,
      "outputs": []
    },
    {
      "cell_type": "code",
      "source": [
        "for i in unique_batter:\n",
        "  d['batsman name'].append(i)\n",
        "  d['total score'].append(unique_batter[i][0])\n",
        "  d['average'].append(unique_batter[i][0]/unique_batter[i][1])\n",
        "  d['fifty'].append(unique_batter[i][2])\n",
        "  d['innings'].append(unique_batter[i][1])\n",
        ""
      ],
      "metadata": {
        "id": "IkwiVObfXKF2"
      },
      "execution_count": 9,
      "outputs": []
    },
    {
      "cell_type": "code",
      "source": [
        "df_write=pd.DataFrame(d)\n",
        "print(df_write)"
      ],
      "metadata": {
        "colab": {
          "base_uri": "https://localhost:8080/"
        },
        "id": "cKl5aT_qYiXX",
        "outputId": "a58d7666-fffb-494c-b418-191f56f1e2d6"
      },
      "execution_count": 12,
      "outputs": [
        {
          "output_type": "stream",
          "name": "stdout",
          "text": [
            "         batsman name  total score    average  innings  fifty\n",
            "0          SC Ganguly         1349  24.089286       56      7\n",
            "1         BB McCullum         2882  26.440367      109     15\n",
            "2          RT Ponting           91  10.111111        9      0\n",
            "3           DJ Hussey         1322  21.672131       61      5\n",
            "4     Mohammad Hafeez           64   8.000000        8      0\n",
            "..                ...          ...        ...      ...    ...\n",
            "668        D Ferreira            8   4.000000        2      0\n",
            "669          A Kamboj            2   2.000000        1      0\n",
            "670  T Kohler-Cadmore           48  16.000000        3      0\n",
            "671      Shivam Singh            2   2.000000        1      0\n",
            "672      V Viyaskanth            7   7.000000        1      0\n",
            "\n",
            "[673 rows x 5 columns]\n"
          ]
        }
      ]
    },
    {
      "cell_type": "code",
      "source": [
        "df_write.to_excel('cricket_data.xlsx', index=False)"
      ],
      "metadata": {
        "id": "-FhK2nFOYun4"
      },
      "execution_count": 13,
      "outputs": []
    }
  ]
}